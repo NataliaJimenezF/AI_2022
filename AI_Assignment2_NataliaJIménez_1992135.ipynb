{
  "nbformat": 4,
  "nbformat_minor": 0,
  "metadata": {
    "colab": {
      "provenance": [],
      "authorship_tag": "ABX9TyNCaOyQs/Vt5jrIwbTVVQOW",
      "include_colab_link": true
    },
    "kernelspec": {
      "name": "python3",
      "display_name": "Python 3"
    },
    "language_info": {
      "name": "python"
    }
  },
  "cells": [
    {
      "cell_type": "markdown",
      "metadata": {
        "id": "view-in-github",
        "colab_type": "text"
      },
      "source": [
        "<a href=\"https://colab.research.google.com/github/NataliaJimenezF/AI_2022/blob/main/AI_Assignment2_NataliaJIm%C3%A9nez_1992135.ipynb\" target=\"_parent\"><img src=\"https://colab.research.google.com/assets/colab-badge.svg\" alt=\"Open In Colab\"/></a>"
      ]
    },
    {
      "cell_type": "markdown",
      "source": [
        "A2: Python Exercises\n",
        "Name: Natalia Jiménez Fraire\n",
        "Student number: 1992135\n",
        "Class time: 4 N4-N6"
      ],
      "metadata": {
        "id": "QlYNcswkt9Sx"
      }
    },
    {
      "cell_type": "markdown",
      "source": [
        "1. Create a python script where the user is going to be asked for the name. After that, the program will greet the user with the given name. Only exception: the script will not greet the user if the given name is \"Ana\", \"John\" or \"Peter\".\n",
        "\n"
      ],
      "metadata": {
        "id": "gGcx55bGva5S"
      }
    },
    {
      "cell_type": "code",
      "execution_count": 14,
      "metadata": {
        "colab": {
          "base_uri": "https://localhost:8080/"
        },
        "id": "p741FvPktYOB",
        "outputId": "59bf3dcb-dc51-4b4c-e9bb-0298b5bf10b8"
      },
      "outputs": [
        {
          "output_type": "stream",
          "name": "stdout",
          "text": [
            "Enter your name: Natalia\n",
            "Hi! Natalia , have a great day\n"
          ]
        }
      ],
      "source": [
        "\n",
        "name = input(\"Enter your name: \")\n",
        "if name == \"Ana\":\n",
        "   print(\"Sorry, please try again with a different name\") \n",
        "elif name == \"John\":\n",
        "   print(\"Sorry, please try again with a different name\") \n",
        "elif name == \"Peter\":\n",
        "   print(\"Sorry, please try again with a different name\") \n",
        "else: \n",
        "   print(\"Hi!\", name,\", have a great day\" )"
      ]
    },
    {
      "cell_type": "markdown",
      "source": [
        "2. \n",
        "Create a function in a pyhton script that returns (print) the last element of a given list, reverts the order of the list and finally returns (print) the reverted list. "
      ],
      "metadata": {
        "id": "iu4pZyG7z905"
      }
    },
    {
      "cell_type": "code",
      "source": [
        "\n",
        "OneDirection = [\"Zayn\", \"Niall\", \"Louis\", \"Liam\", \"Harry\"]\n",
        "print(\"The last member of the list is:\", OneDirection[4])\n",
        "RevertedList = OneDirection[::-1]\n",
        "\n",
        "print(\"Reverted list:\", RevertedList)"
      ],
      "metadata": {
        "colab": {
          "base_uri": "https://localhost:8080/"
        },
        "id": "MBHvww-J0DUZ",
        "outputId": "c5250dce-6f31-48e2-ef0c-7c65627c7f3f"
      },
      "execution_count": 19,
      "outputs": [
        {
          "output_type": "stream",
          "name": "stdout",
          "text": [
            "The last member of the list is: Harry\n",
            "Reverted list: ['Harry', 'Liam', 'Louis', 'Niall', 'Zayn']\n"
          ]
        }
      ]
    },
    {
      "cell_type": "markdown",
      "source": [
        "\n",
        "3. Create a function in a python script that takes a list of strings as input and then it prints, line by line, the whole list in a rectangular shape. E.g., the list could be [\"Hi\", \"my\", \"name\", \"is\", \"John\", \"Doe\"] and the final result is:"
      ],
      "metadata": {
        "id": "E_09e1hh17r6"
      }
    },
    {
      "cell_type": "code",
      "source": [
        "AM = [\"Cornerstone\", \"Black Treacle\", \"Do Me a Favour\", \"505\", \"Teddy Picker\"]\n",
        "\n",
        "def frame(words):\n",
        "    size = len(max(words, key=len))\n",
        "    print('*' * (size + 4))\n",
        "    for word in words:\n",
        "        print('* {a:<{b}} *'.format(a=word, b=size))\n",
        "    print('*' * (size + 4))\n",
        "\n",
        "frame(AM)"
      ],
      "metadata": {
        "colab": {
          "base_uri": "https://localhost:8080/"
        },
        "id": "3mtdW1kv2BnU",
        "outputId": "cc410065-b8d6-4d43-f573-9c164f2fc472"
      },
      "execution_count": 23,
      "outputs": [
        {
          "output_type": "stream",
          "name": "stdout",
          "text": [
            "******************\n",
            "* Cornerstone    *\n",
            "* Black Treacle  *\n",
            "* Do Me a Favour *\n",
            "* 505            *\n",
            "* Teddy Picker   *\n",
            "******************\n"
          ]
        }
      ]
    }
  ]
}